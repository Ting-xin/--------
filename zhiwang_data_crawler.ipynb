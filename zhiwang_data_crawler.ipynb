{
 "cells": [
  {
   "cell_type": "code",
   "execution_count": 4,
   "metadata": {},
   "outputs": [],
   "source": [
    "import csv\n",
    "import time\n",
    "import json\n",
    "from selenium import webdriver\n",
    "from selenium.webdriver.support.ui import WebDriverWait\n",
    "from selenium.webdriver.support import expected_conditions as EC\n",
    "from selenium.webdriver.common.by import By\n",
    "from selenium.webdriver.common.desired_capabilities import DesiredCapabilities\n",
    "from selenium.webdriver.chrome.options import Options\n",
    "from urllib.parse import urljoin\n",
    "from selenium.webdriver.common.action_chains import ActionChains\n",
    "from selenium.common.exceptions import TimeoutException\n",
    "from selenium.common.exceptions import NoSuchElementException\n"
   ]
  },
  {
   "cell_type": "code",
   "execution_count": 5,
   "metadata": {},
   "outputs": [],
   "source": [
    "with open('./科研机构失败清单.json', encoding='utf-8') as f:\n",
    "  institu_list = json.load(f)\n",
    "with open('./data/长三角普通高等学校名单.json', encoding='utf-8') as f:\n",
    "  school_list = json.load(f)"
   ]
  },
  {
   "cell_type": "code",
   "execution_count": 3,
   "metadata": {},
   "outputs": [
    {
     "data": {
      "text/plain": [
       "{'科研机构名称': '江苏省环境科学研究院', '研究领域': '环境科学', '省': '江苏省', '市': '南京市', '县/区': '鼓楼区'}"
      ]
     },
     "execution_count": 3,
     "metadata": {},
     "output_type": "execute_result"
    }
   ],
   "source": [
    "institu_list[0]"
   ]
  },
  {
   "cell_type": "code",
   "execution_count": 15,
   "metadata": {},
   "outputs": [
    {
     "name": "stdout",
     "output_type": "stream",
     "text": [
      "[{'单位': '江苏省建筑科学研究院有限公司', '名称': '标准化附框在隔热铝合金外窗防渗漏施工中的应用', '作者': '沈佑竹; 刘永刚; 魏燕丽', '刊名': '江苏建筑', '时间': '2021-12-31'}, {'单位': '江苏省建筑科学研究院有限公司', '名称': '江苏省居住建筑节能75%技术研究与应用', '作者': '魏燕丽; 许锦峰', '刊名': '新型建筑材料', '时间': '2021-12-25'}, {'单位': '江苏省建筑科学研究院有限公司', '名称': '金鸡湖隧道现浇侧墙结构抗裂性能提升技术与应用', '作者': '张坚; 徐文; 王育江; 康健; 贺飞', '刊名': '江苏建筑', '时间': '2021-10-31'}, {'单位': '江苏省建筑科学研究院有限公司', '名称': '大跨钢桁架屋盖结构选型及节点抗震分析', '作者': '肖蔚; 沈古成; 缪汉良', '刊名': '江苏建筑', '时间': '2021-10-31'}, {'单位': '江苏省建筑科学研究院有限公司', '名称': '大直径钢管内无收缩高抗裂混凝土设计与制备', '作者': '颜智法; 董香港; 杨睿; 李明; 徐文', '刊名': '江苏建筑', '时间': '2021-10-31'}, {'单位': '江苏省建筑科学研究院有限公司', '名称': '钢框架结构检测鉴定与加固设计关键分析', '作者': '骆利', '刊名': '工程建设与设计', '时间': '2021-10-28'}, {'单位': '江苏省建筑科学研究院有限公司', '名称': '摇摆钢支撑快速建筑信息模型建模技术及其Revit模块开发', '作者': '卞明月;陈鑫;谈丽华;刘涛;孙勇', '刊名': '科学技术与工程', '时间': '2021-09-18'}, {'单位': '江苏省建筑科学研究院有限公司', '名称': 'BIM+装配式标准化设计在住宅项目中的研究及应用', '作者': '高威; 宣云干; 孙俊; 陶在来', '刊名': '江苏建筑', '时间': '2021-08-31'}, {'单位': '江苏省建筑科学研究院有限公司', '名称': '绿色保障性住房关键技术研究与应用示范', '作者': '刘永刚;路宏伟;刘建石;许锦峰;龚红卫', '刊名': '建设科技', '时间': '2021-07-15'}, {'单位': '江苏省建筑科学研究院有限公司', '名称': '了解修订真相 做到准确贯标——JC/T 2094-2021《生态护坡和干垒挡土墙用混凝土砌块》标准主要指标解读', '作者': '费宏亮; 丁慧; 杜建东', '刊名': '建筑砌块与砌块建筑', '时间': '2021-06-30'}, {'单位': '江苏省建筑科学研究院有限公司', '名称': '基于X射线胶片法连接节点灌浆质量检测技术研究', '作者': '崇金玲', '刊名': '江苏建筑', '时间': '2021-06-30'}, {'单位': '江苏省建筑科学研究院有限公司', '名称': '半柔性路面材料性能研究及其在重载交通道口的应用', '作者': '朱剑南; 熊子佳; 刘子炀; 龚明辉; 邓成', '刊名': '江苏建筑', '时间': '2021-06-30'}, {'单位': '江苏省建筑科学研究院有限公司', '名称': '近断层速度脉冲型地震动对多层校舍减震加固性能影响研究', '作者': '陈超;陈鑫;俞伟根;孙勇;刘涛', '刊名': '工程抗震与加固改造', '时间': '2021-06-05'}, {'单位': '江苏省建筑科学研究院有限公司', '名称': '高烈度区既有RC框架-剪力墙结构抗震加固易损性分析', '作者': '乔剑;陈鑫;俞伟根;刘涛;孙勇', '刊名': '建筑结构', '时间': '2021-05-25'}, {'单位': '江苏省建筑科学研究院有限公司', '名称': '多层工业厂房火灾后加固设计与抗震性能分析', '作者': '钱胜力;陈鑫;俞伟根;孙勇;毛小勇', '刊名': '科学技术与工程', '时间': '2021-05-18'}, {'单位': '江苏省建筑科学研究院有限公司', '名称': '相变材料物性与轻质相变围护结构节能研究进展', '作者': '张源; 魏燕丽; 许锦峰', '刊名': '江苏大学学报(自然科学版)', '时间': '2021-05-07'}, {'单位': '江苏省建筑科学研究院有限公司', '名称': 'MKPC水化体系的早龄期变形特性试验研究', '作者': '崇金玲', '刊名': '江苏建筑', '时间': '2021-04-30'}, {'单位': '江苏省建筑科学研究院有限公司', '名称': '某大尺寸异型网壳结构的分析与设计实践', '作者': '肖蔚; 缪汉良; 沈古成', '刊名': '江苏建筑', '时间': '2021-04-30'}, {'单位': '江苏省建筑科学研究院有限公司', '名称': '常州市绿色宜居城区智慧管理平台', '作者': '', '刊名': '中国建设信息化', '时间': '2021-04-15'}, {'单位': '江苏省建筑科学研究院有限公司', '名称': '基于Revit平台的既有建筑抗震加固BIM模块开发与应用', '作者': '卞明月;谈丽华;陈鑫;李爱群;孙勇', '刊名': '土木工程与管理学报', '时间': '2021-04-15'}]\n"
     ]
    }
   ],
   "source": [
    "def open_page_author(driver, institu_name, res):\n",
    "    # 打开知网高级检索页面\n",
    "    driver.get(\"https://kns.cnki.net/kns8/AdvSearch?dbprefix=CFLS&&crossDbcodes=CJFQ%2CCDMD%2CCIPD%2CCCND%2CCISD%2CSNAD%2CBDZK%2CCCJD%2CCCVD%2CCJFN\")\n",
    "    # 点击学术期刊栏目\n",
    "    time.sleep(3)\n",
    "    WebDriverWait(driver, 100).until(EC.presence_of_element_located(\n",
    "        (By.XPATH, '/html/body/div[3]/div[1]/div/ul[1]/li[1]/a/span'))).click()\n",
    "    # 选择作者单位\n",
    "    time.sleep(3)\n",
    "    WebDriverWait(driver, 100).until(EC.presence_of_element_located(\n",
    "        (By.XPATH, '//*[@id=\"gradetxt\"]/dd[2]/div[2]/div[1]/div[1]/span'))).click()\n",
    "    time.sleep(3)\n",
    "    WebDriverWait(driver, 100).until(EC.presence_of_element_located(\n",
    "        (By.XPATH, '//*[@id=\"gradetxt\"]/dd[2]/div[2]/div[1]/div[2]/ul[2]/li[5]/a'))).click()\n",
    "    time.sleep(3)\n",
    "    driver.find_element_by_xpath(\n",
    "        '//*[@id = \"gradetxt\"]/dd[2]/div[2]/input').send_keys(institu_name)\n",
    "    WebDriverWait(driver, 100).until(EC.presence_of_element_located(\n",
    "        (By.XPATH, '//*[@id=\"gradetxt\"]/dd[2]/div[2]/div[2]/div/span'))).click()\n",
    "    time.sleep(3)\n",
    "    WebDriverWait(driver, 100).until(EC.presence_of_element_located(\n",
    "        (By.XPATH, '//*[@id=\"gradetxt\"]/dd[2]/div[2]/div[2]/ul/li[1]/a'))).click()\n",
    "    time.sleep(3)\n",
    "    # 选择年份\n",
    "    WebDriverWait(driver, 100).until(EC.presence_of_element_located(\n",
    "        (By.XPATH, '/html/body/div[2]/div/div[2]/div/div[1]/div[1]/div[2]/div[1]/div[2]/div[1]/div[1]/div[1]/div/input'))).click()\n",
    "    time.sleep(3)\n",
    "    time0_element = driver.find_element_by_xpath(\n",
    "        '/html/body/div[2]/div/div[2]/div/div[1]/div[1]/div[2]/div[1]/div[2]/div[1]/div[1]/div[1]/ul')\n",
    "    driver.execute_script(\n",
    "        \"arguments[0].scrollTop = arguments[0].scrollHeight\", time0_element)\n",
    "    time.sleep(3)\n",
    "    WebDriverWait(driver, 100).until(EC.presence_of_element_located(\n",
    "        (By.XPATH, '/html/body/div[2]/div/div[2]/div/div[1]/div[1]/div[2]/div[1]/div[2]/div[1]/div[1]/div[1]/ul/li[45]/a'))).click()\n",
    "    time.sleep(3)\n",
    "    WebDriverWait(driver, 100).until(EC.presence_of_element_located(\n",
    "        (By.XPATH, '/html/body/div[2]/div/div[2]/div/div[1]/div[1]/div[2]/div[1]/div[2]/div[1]/div[1]/div[2]/div/input'))).click()\n",
    "    time.sleep(3)\n",
    "    WebDriverWait(driver, 100).until(EC.presence_of_element_located(\n",
    "        (By.XPATH, '/html/body/div[2]/div/div[2]/div/div[1]/div[1]/div[2]/div[1]/div[2]/div[1]/div[1]/div[2]/ul/li[3]/a'))).click()\n",
    "    time.sleep(3)\n",
    "\n",
    "    # 点击检索\n",
    "    WebDriverWait(driver, 100).until(\n",
    "        EC.presence_of_element_located((By.XPATH, '/html/body/div[2]/div/div[2]/div/div[1]/div[1]/div[2]/div[2]/input'))).click()\n",
    "    time.sleep(10)\n",
    "\n",
    "    while True:\n",
    "        # 找到table中的所有tr元素\n",
    "        WebDriverWait(driver, 100).until(EC.presence_of_element_located(\n",
    "            (By.XPATH, '/html/body/div[3]/div[2]/div[2]/div[2]/form/div/table')))\n",
    "        time.sleep(3)\n",
    "        table = driver.find_element_by_xpath(\n",
    "            '/html/body/div[3]/div[2]/div[2]/div[2]/form/div/table')\n",
    "        WebDriverWait(driver, 100).until(EC.presence_of_element_located(\n",
    "            (By.XPATH, './/tr')))\n",
    "        time.sleep(3)\n",
    "        rows = table.find_elements_by_xpath('.//tr')\n",
    "\n",
    "        # 遍历每个tr元素\n",
    "        for row in rows[1:]:\n",
    "            # 找到该行中的所有td元素\n",
    "            cells = row.find_elements_by_xpath('.//td')\n",
    "            article = {}\n",
    "            # 遍历每个td元素，并将它们的文本值存储在一个字典对象中\n",
    "            article['单位'] = institu_name\n",
    "            article['名称'] = cells[1].text\n",
    "            article['作者'] = cells[2].text\n",
    "            article['刊名'] = cells[3].text\n",
    "            article['时间'] = cells[4].text\n",
    "            res.append(article)\n",
    "\n",
    "        try:\n",
    "            # # 找到下一页元素，并单击它\n",
    "            # next_page = driver.find_element_by_css_selector('#PageNext')\n",
    "            # next_page.click()\n",
    "\n",
    "            # # 等待页面加载完成\n",
    "            # driver.implicitly_wait(10)\n",
    "            WebDriverWait(driver, 20).until(EC.presence_of_element_located(\n",
    "                (By.CSS_SELECTOR, '#PageNext'))).click()\n",
    "            time.sleep(3)\n",
    "            # 找到table元素\n",
    "        except TimeoutException:\n",
    "            print(institu_name + ' 获取数据超时')\n",
    "            # 如果没有下一页数据，则退出循环\n",
    "            break\n",
    "        except Exception as e:\n",
    "            break\n",
    "    # 循环获取每一页的数据"
   ]
  },
  {
   "cell_type": "code",
   "execution_count": 17,
   "metadata": {},
   "outputs": [
    {
     "data": {
      "text/plain": [
       "22"
      ]
     },
     "execution_count": 17,
     "metadata": {},
     "output_type": "execute_result"
    }
   ],
   "source": [
    "len(result)"
   ]
  },
  {
   "cell_type": "code",
   "execution_count": 12,
   "metadata": {},
   "outputs": [
    {
     "name": "stdout",
     "output_type": "stream",
     "text": [
      "[{'单位': '江苏省建筑科学研究院有限公司', '名称': '标准化附框在隔热铝合金外窗防渗漏施工中的应用', '作者': '沈佑竹; 刘永刚; 魏燕丽', '刊名': '江苏建筑', '时间': '2021-12-31'}, {'单位': '江苏省建筑科学研究院有限公司', '名称': '江苏省居住建筑节能75%技术研究与应用', '作者': '魏燕丽; 许锦峰', '刊名': '新型建筑材料', '时间': '2021-12-25'}, {'单位': '江苏省建筑科学研究院有限公司', '名称': '金鸡湖隧道现浇侧墙结构抗裂性能提升技术与应用', '作者': '张坚; 徐文; 王育江; 康健; 贺飞', '刊名': '江苏建筑', '时间': '2021-10-31'}, {'单位': '江苏省建筑科学研究院有限公司', '名称': '大跨钢桁架屋盖结构选型及节点抗震分析', '作者': '肖蔚; 沈古成; 缪汉良', '刊名': '江苏建筑', '时间': '2021-10-31'}, {'单位': '江苏省建筑科学研究院有限公司', '名称': '大直径钢管内无收缩高抗裂混凝土设计与制备', '作者': '颜智法; 董香港; 杨睿; 李明; 徐文', '刊名': '江苏建筑', '时间': '2021-10-31'}, {'单位': '江苏省建筑科学研究院有限公司', '名称': '钢框架结构检测鉴定与加固设计关键分析', '作者': '骆利', '刊名': '工程建设与设计', '时间': '2021-10-28'}, {'单位': '江苏省建筑科学研究院有限公司', '名称': '摇摆钢支撑快速建筑信息模型建模技术及其Revit模块开发', '作者': '卞明月;陈鑫;谈丽华;刘涛;孙勇', '刊名': '科学技术与工程', '时间': '2021-09-18'}, {'单位': '江苏省建筑科学研究院有限公司', '名称': 'BIM+装配式标准化设计在住宅项目中的研究及应用', '作者': '高威; 宣云干; 孙俊; 陶在来', '刊名': '江苏建筑', '时间': '2021-08-31'}, {'单位': '江苏省建筑科学研究院有限公司', '名称': '绿色保障性住房关键技术研究与应用示范', '作者': '刘永刚;路宏伟;刘建石;许锦峰;龚红卫', '刊名': '建设科技', '时间': '2021-07-15'}, {'单位': '江苏省建筑科学研究院有限公司', '名称': '了解修订真相 做到准确贯标——JC/T 2094-2021《生态护坡和干垒挡土墙用混凝土砌块》标准主要指标解读', '作者': '费宏亮; 丁慧; 杜建东', '刊名': '建筑砌块与砌块建筑', '时间': '2021-06-30'}, {'单位': '江苏省建筑科学研究院有限公司', '名称': '基于X射线胶片法连接节点灌浆质量检测技术研究', '作者': '崇金玲', '刊名': '江苏建筑', '时间': '2021-06-30'}, {'单位': '江苏省建筑科学研究院有限公司', '名称': '半柔性路面材料性能研究及其在重载交通道口的应用', '作者': '朱剑南; 熊子佳; 刘子炀; 龚明辉; 邓成', '刊名': '江苏建筑', '时间': '2021-06-30'}, {'单位': '江苏省建筑科学研究院有限公司', '名称': '近断层速度脉冲型地震动对多层校舍减震加固性能影响研究', '作者': '陈超;陈鑫;俞伟根;孙勇;刘涛', '刊名': '工程抗震与加固改造', '时间': '2021-06-05'}, {'单位': '江苏省建筑科学研究院有限公司', '名称': '高烈度区既有RC框架-剪力墙结构抗震加固易损性分析', '作者': '乔剑;陈鑫;俞伟根;刘涛;孙勇', '刊名': '建筑结构', '时间': '2021-05-25'}, {'单位': '江苏省建筑科学研究院有限公司', '名称': '多层工业厂房火灾后加固设计与抗震性能分析', '作者': '钱胜力;陈鑫;俞伟根;孙勇;毛小勇', '刊名': '科学技术与工程', '时间': '2021-05-18'}, {'单位': '江苏省建筑科学研究院有限公司', '名称': '相变材料物性与轻质相变围护结构节能研究进展', '作者': '张源; 魏燕丽; 许锦峰', '刊名': '江苏大学学报(自然科学版)', '时间': '2021-05-07'}, {'单位': '江苏省建筑科学研究院有限公司', '名称': 'MKPC水化体系的早龄期变形特性试验研究', '作者': '崇金玲', '刊名': '江苏建筑', '时间': '2021-04-30'}, {'单位': '江苏省建筑科学研究院有限公司', '名称': '某大尺寸异型网壳结构的分析与设计实践', '作者': '肖蔚; 缪汉良; 沈古成', '刊名': '江苏建筑', '时间': '2021-04-30'}, {'单位': '江苏省建筑科学研究院有限公司', '名称': '常州市绿色宜居城区智慧管理平台', '作者': '', '刊名': '中国建设信息化', '时间': '2021-04-15'}, {'单位': '江苏省建筑科学研究院有限公司', '名称': '基于Revit平台的既有建筑抗震加固BIM模块开发与应用', '作者': '卞明月;谈丽华;陈鑫;李爱群;孙勇', '刊名': '土木工程与管理学报', '时间': '2021-04-15'}]\n"
     ]
    },
    {
     "ename": "TimeoutException",
     "evalue": "Message: \n",
     "output_type": "error",
     "traceback": [
      "\u001b[1;31m---------------------------------------------------------------------------\u001b[0m",
      "\u001b[1;31mTimeoutException\u001b[0m                          Traceback (most recent call last)",
      "Cell \u001b[1;32mIn[12], line 17\u001b[0m\n\u001b[0;32m     15\u001b[0m result \u001b[39m=\u001b[39m []\n\u001b[0;32m     16\u001b[0m \u001b[39m# institu_list = json.loads(open('./长三角科研机构知网论文数.json').read())\u001b[39;00m\n\u001b[1;32m---> 17\u001b[0m open_page_author(driver, \u001b[39m\"\u001b[39;49m\u001b[39m江苏省建筑科学研究院有限公司\u001b[39;49m\u001b[39m\"\u001b[39;49m, result)\n\u001b[0;32m     18\u001b[0m \u001b[39m# for institu in institu_list:\u001b[39;00m\n\u001b[0;32m     19\u001b[0m \u001b[39m#     if '中文文献数' in institu:\u001b[39;00m\n\u001b[0;32m     20\u001b[0m \u001b[39m#         open_page_author(driver, institu['科研机构名称'], result)\u001b[39;00m\n\u001b[0;32m     21\u001b[0m \u001b[39m# with open('./长三角论文.json', 'w', encoding='utf-8') as file:\u001b[39;00m\n\u001b[0;32m     22\u001b[0m \u001b[39m#     json.dump(result, file)\u001b[39;00m\n\u001b[0;32m     23\u001b[0m driver\u001b[39m.\u001b[39mclose()\n",
      "Cell \u001b[1;32mIn[11], line 80\u001b[0m, in \u001b[0;36mopen_page_author\u001b[1;34m(driver, institu_name, res)\u001b[0m\n\u001b[0;32m     71\u001b[0m     res\u001b[39m.\u001b[39mappend(article)\n\u001b[0;32m     73\u001b[0m \u001b[39mtry\u001b[39;00m:\n\u001b[0;32m     74\u001b[0m     \u001b[39m# # 找到下一页元素，并单击它\u001b[39;00m\n\u001b[0;32m     75\u001b[0m     \u001b[39m# next_page = driver.find_element_by_css_selector('#PageNext')\u001b[39;00m\n\u001b[1;32m   (...)\u001b[0m\n\u001b[0;32m     78\u001b[0m     \u001b[39m# # 等待页面加载完成\u001b[39;00m\n\u001b[0;32m     79\u001b[0m     \u001b[39m# driver.implicitly_wait(10)\u001b[39;00m\n\u001b[1;32m---> 80\u001b[0m     WebDriverWait(driver, \u001b[39m100\u001b[39;49m)\u001b[39m.\u001b[39;49muntil(EC\u001b[39m.\u001b[39;49mpresence_of_element_located(\n\u001b[0;32m     81\u001b[0m         (By\u001b[39m.\u001b[39;49mCSS_SELECTOR, \u001b[39m'\u001b[39;49m\u001b[39m#PageNext\u001b[39;49m\u001b[39m'\u001b[39;49m)))\u001b[39m.\u001b[39mclick()\n\u001b[0;32m     82\u001b[0m     time\u001b[39m.\u001b[39msleep(\u001b[39m3\u001b[39m)\n\u001b[0;32m     83\u001b[0m     \u001b[39mprint\u001b[39m(res)\n",
      "File \u001b[1;32mf:\\Anaconda3\\lib\\site-packages\\selenium\\webdriver\\support\\wait.py:80\u001b[0m, in \u001b[0;36mWebDriverWait.until\u001b[1;34m(self, method, message)\u001b[0m\n\u001b[0;32m     78\u001b[0m     \u001b[39mif\u001b[39;00m time\u001b[39m.\u001b[39mtime() \u001b[39m>\u001b[39m end_time:\n\u001b[0;32m     79\u001b[0m         \u001b[39mbreak\u001b[39;00m\n\u001b[1;32m---> 80\u001b[0m \u001b[39mraise\u001b[39;00m TimeoutException(message, screen, stacktrace)\n",
      "\u001b[1;31mTimeoutException\u001b[0m: Message: \n"
     ]
    }
   ],
   "source": [
    "if __name__ == \"__main__\":\n",
    "    # get直接返回，不再等待界面加载完成\n",
    "    desired_capabilities = DesiredCapabilities.CHROME\n",
    "    desired_capabilities[\"pageLoadStrategy\"] = \"none\"\n",
    "\n",
    "    # 设置谷歌驱动器的环境\n",
    "    options = webdriver.ChromeOptions()\n",
    "    # 设置chrome不加载图片，提高速度\n",
    "    options.add_experimental_option(\n",
    "        \"prefs\", {\"profile.managed_default_content_settings.images\": 2})\n",
    "    # # 设置不显示窗口\n",
    "    # options.add_argument('--headless')\n",
    "    # 创建一个谷歌驱动器\n",
    "    driver = webdriver.Chrome(options=options)\n",
    "    result = []\n",
    "    # institu_list = json.loads(open('./长三角科研机构知网论文数.json').read())\n",
    "    open_page_author(driver, \"江苏省建筑科学研究院有限公司\", result)\n",
    "    # for institu in institu_list:\n",
    "    #     if '中文文献数' in institu:\n",
    "    #         open_page_author(driver, institu['科研机构名称'], result)\n",
    "    # with open('./长三角论文.json', 'w', encoding='utf-8') as file:\n",
    "    #     json.dump(result, file)\n",
    "    driver.close()\n"
   ]
  },
  {
   "cell_type": "code",
   "execution_count": 21,
   "metadata": {},
   "outputs": [],
   "source": [
    "result = {}\n",
    "for school in school_list:\n",
    "  if '中文文献数' not in school:\n",
    "    continue\n",
    "  if school['城市'] in result:\n",
    "    result[school['城市']] += school['中文文献数']\n",
    "  else:\n",
    "    result[school['城市']] = school['中文文献数']\n",
    "\n",
    "import csv\n",
    "\n",
    "# 创建 CSV 文件并写入数据\n",
    "with open('result.csv', 'w', encoding='gbk', newline='') as f:\n",
    "    writer = csv.writer(f)\n",
    "\n",
    "    # 写入 CSV 文件的标题行\n",
    "    writer.writerow(['城市', '知网中文文献数'])\n",
    "\n",
    "    # 遍历字典的列表，并将每个字典的数据写入 CSV 文件中\n",
    "    for item in result.keys():\n",
    "        row = [item, result[item]]\n",
    "        writer.writerow(row)\n"
   ]
  },
  {
   "cell_type": "code",
   "execution_count": 32,
   "metadata": {},
   "outputs": [],
   "source": [
    "import json \n",
    "\n",
    "with open('./长三角科研机构知网论文数.json', encoding='utf-8') as file:\n",
    "  data = json.load(file)\n",
    "\n",
    "for i in data:\n",
    "  if '中文文献数' not in i:\n",
    "    i['中文文献数'] = 0\n",
    "\n",
    "with open('./长三角科研机构知网论文数.json', 'w', encoding='utf-8') as file:\n",
    "    json.dump(data, file, ensure_ascii=False)\n"
   ]
  }
 ],
 "metadata": {
  "kernelspec": {
   "display_name": "base",
   "language": "python",
   "name": "python3"
  },
  "language_info": {
   "codemirror_mode": {
    "name": "ipython",
    "version": 3
   },
   "file_extension": ".py",
   "mimetype": "text/x-python",
   "name": "python",
   "nbconvert_exporter": "python",
   "pygments_lexer": "ipython3",
   "version": "3.8.3"
  },
  "orig_nbformat": 4
 },
 "nbformat": 4,
 "nbformat_minor": 2
}
