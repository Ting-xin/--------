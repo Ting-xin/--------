{
 "cells": [
  {
   "cell_type": "code",
   "execution_count": 2,
   "metadata": {},
   "outputs": [],
   "source": [
    "import csv\n",
    "import time\n",
    "from selenium import webdriver\n",
    "from selenium.webdriver.support.ui import WebDriverWait\n",
    "from selenium.webdriver.support import expected_conditions as EC\n",
    "from selenium.webdriver.common.by import By\n",
    "from selenium.webdriver.common.desired_capabilities import DesiredCapabilities\n",
    "from selenium.webdriver.chrome.options import Options\n",
    "from urllib.parse import urljoin\n",
    "from selenium.webdriver.common.action_chains import ActionChains\n"
   ]
  },
  {
   "cell_type": "code",
   "execution_count": 6,
   "metadata": {},
   "outputs": [
    {
     "name": "stdout",
     "output_type": "stream",
     "text": [
      "共找到 51651 条结果, 2583 页。\n",
      "51651\n"
     ]
    }
   ],
   "source": [
    "def open_page(driver, institution):\n",
    "    # 打开知网高级检索页面\n",
    "\n",
    "    driver.get(\"https://kns.cnki.net/kns8/AdvSearch?dbprefix=CFLS&&crossDbcodes=CJFQ%2CCDMD%2CCIPD%2CCCND%2CCISD%2CSNAD%2CBDZK%2CCCJD%2CCCVD%2CCJFN\")\n",
    "    # 设置机构名\n",
    "    time.sleep(5)\n",
    "    institu_element = driver.find_element_by_xpath(\n",
    "        '//*[@id=\"gradetxt\"]/dd[3]/div[2]/div[1]/div[1]/span')\n",
    "    ActionChains(driver).move_to_element(institu_element).click().perform()\n",
    "    time.sleep(5)\n",
    "    select_element = driver.find_element_by_xpath(\n",
    "        '//*[@id=\"gradetxt\"]/dd[3]/div[2]/div[1]/div[2]/ul/li[9]')\n",
    "    ActionChains(driver).move_to_element(select_element).click().perform()\n",
    "    driver.find_element_by_xpath('//*[@id=\"gradetxt\"]/dd[3]/div[2]/input').send_keys(institution)\n",
    "    # 设置机构名是精确查找\n",
    "    institu_precise_element = driver.find_element_by_xpath(\n",
    "        '//*[@id=\"gradetxt\"]/dd[3]/div[2]/div[2]/div/span')\n",
    "    ActionChains(driver).move_to_element(institu_precise_element).click().perform()\n",
    "    time.sleep(5)\n",
    "    ActionChains(driver).move_to_element(driver.find_element_by_xpath(\n",
    "        '//*[@id=\"gradetxt\"]/dd[3]/div[2]/div[2]/ul/li[1]/a')).click().perform()\n",
    "    # 设置时间\n",
    "    # 设置第一个时间\n",
    "    time0_element = driver.find_element_by_id('datebox0')\n",
    "    time0_element.send_keys('2021-01-01')\n",
    "    # ActionChains(driver).move_to_element(time0_element).click().perform()\n",
    "    # time.sleep(1)\n",
    "    # ActionChains(driver).move_to_element(driver.find_element_by_xpath(\n",
    "    #     '/html/body/div[8]/div[1]/div[1]/div[2]/span')).click().perform()\n",
    "    # # 设置年月日\n",
    "    # ActionChains(driver).move_to_element(driver.find_element_by_xpath(\n",
    "    #     '/html/body/div[8]/div[1]/div[1]/div[2]/div/div[1]/div[107]')).click().perform()\n",
    "    # ActionChains(driver).move_to_element(\n",
    "    #     driver.find_element_by_xpath('/html/body/div[8]/div[1]/div[1]/div[1]')).click().perform()\n",
    "    # ActionChains(driver).move_to_element(driver.find_element_by_xpath(\n",
    "    #     '/html/body/div[8]/div[1]/div[1]/div[1]/div/div[1]/div[1]')).click().perform()\n",
    "    # ActionChains(driver).move_to_element(driver.find_element_by_xpath(\n",
    "    #     '/html/body/div[8]/div[1]/div[2]/table/tbody/tr[1]/td[6]/div')).click().perform()\n",
    "    time1_element = driver.find_element_by_id('datebox1')\n",
    "    time1_element.send_keys('2021-12-31')\n",
    "    # 点击检索\n",
    "    WebDriverWait(driver, 100).until(\n",
    "        EC.presence_of_element_located((By.XPATH, '/html/body/div[2]/div/div[2]/div/div[1]/div[1]/div[2]/div[2]/input'))).click()\n",
    "    time.sleep(3)\n",
    "    # 获取总文献数和页数\n",
    "    res_unm = WebDriverWait(driver, 100).until(EC.presence_of_element_located(\n",
    "        (By.XPATH, '''//*[@id=\"countPageDiv\"]/span[1]/em'''))).text\n",
    "    # 去除千分位里的逗号\n",
    "    res_unm = int(res_unm.replace(\",\", ''))\n",
    "    page_unm = int(res_unm / 20) + 1\n",
    "    print(f\"共找到 {res_unm} 条结果, {page_unm} 页。\")\n",
    "    return res_unm\n",
    "\n",
    "\n",
    "if __name__ == \"__main__\":\n",
    "    # get直接返回，不再等待界面加载完成\n",
    "    desired_capabilities = DesiredCapabilities.CHROME\n",
    "    desired_capabilities[\"pageLoadStrategy\"] = \"none\"\n",
    "\n",
    "    # 设置谷歌驱动器的环境\n",
    "    options = webdriver.ChromeOptions()\n",
    "    # 设置chrome不加载图片，提高速度\n",
    "    options.add_experimental_option(\n",
    "        \"prefs\", {\"profile.managed_default_content_settings.images\": 2})\n",
    "    # # 设置不显示窗口\n",
    "    # options.add_argument('--headless')\n",
    "    # 创建一个谷歌驱动器\n",
    "    driver = webdriver.Chrome(options=options)\n",
    "    print(open_page(driver, '南京师范大学'))\n",
    "    # 关闭浏览器\n",
    "    driver.close()\n"
   ]
  },
  {
   "cell_type": "code",
   "execution_count": 5,
   "metadata": {},
   "outputs": [
    {
     "ename": "NoSuchElementException",
     "evalue": "Message: no such element: Unable to locate element: {\"method\":\"xpath\",\"selector\":\"//*[@id=\"gradetxt\"]/dd[3]/div[2]/div[1]/div[1]/span\"}\n  (Session info: chrome=113.0.5672.127)\n",
     "output_type": "error",
     "traceback": [
      "\u001b[1;31m---------------------------------------------------------------------------\u001b[0m",
      "\u001b[1;31mNoSuchElementException\u001b[0m                    Traceback (most recent call last)",
      "Cell \u001b[1;32mIn[5], line 15\u001b[0m\n\u001b[0;32m     11\u001b[0m \u001b[39m# # 设置不显示窗口\u001b[39;00m\n\u001b[0;32m     12\u001b[0m \u001b[39m# options.add_argument('--headless')\u001b[39;00m\n\u001b[0;32m     13\u001b[0m \u001b[39m# 创建一个谷歌驱动器\u001b[39;00m\n\u001b[0;32m     14\u001b[0m driver \u001b[39m=\u001b[39m webdriver\u001b[39m.\u001b[39mChrome(options\u001b[39m=\u001b[39moptions)\n\u001b[1;32m---> 15\u001b[0m \u001b[39mprint\u001b[39m(open_page(driver, \u001b[39m'\u001b[39;49m\u001b[39m南京师范大学\u001b[39;49m\u001b[39m'\u001b[39;49m))\n\u001b[0;32m     16\u001b[0m \u001b[39m# 关闭浏览器\u001b[39;00m\n\u001b[0;32m     17\u001b[0m driver\u001b[39m.\u001b[39mclose()\n",
      "Cell \u001b[1;32mIn[3], line 6\u001b[0m, in \u001b[0;36mopen_page\u001b[1;34m(driver, institution)\u001b[0m\n\u001b[0;32m      4\u001b[0m driver\u001b[39m.\u001b[39mget(\u001b[39m\"\u001b[39m\u001b[39mhttps://kns.cnki.net/kns8/AdvSearch?dbprefix=CFLS&&crossDbcodes=CJFQ\u001b[39m\u001b[39m%\u001b[39m\u001b[39m2CCDMD\u001b[39m\u001b[39m%\u001b[39m\u001b[39m2CCIPD\u001b[39m\u001b[39m%\u001b[39m\u001b[39m2CCCND\u001b[39m\u001b[39m%\u001b[39m\u001b[39m2CCISD\u001b[39m\u001b[39m%\u001b[39m\u001b[39m2CSNAD\u001b[39m\u001b[39m%\u001b[39m\u001b[39m2CBDZK\u001b[39m\u001b[39m%\u001b[39m\u001b[39m2CCCJD\u001b[39m\u001b[39m%\u001b[39m\u001b[39m2CCCVD\u001b[39m\u001b[39m%\u001b[39m\u001b[39m2CCJFN\u001b[39m\u001b[39m\"\u001b[39m)\n\u001b[0;32m      5\u001b[0m \u001b[39m# 设置机构名\u001b[39;00m\n\u001b[1;32m----> 6\u001b[0m institu_element \u001b[39m=\u001b[39m driver\u001b[39m.\u001b[39;49mfind_element_by_xpath(\n\u001b[0;32m      7\u001b[0m     \u001b[39m'\u001b[39;49m\u001b[39m//*[@id=\u001b[39;49m\u001b[39m\"\u001b[39;49m\u001b[39mgradetxt\u001b[39;49m\u001b[39m\"\u001b[39;49m\u001b[39m]/dd[3]/div[2]/div[1]/div[1]/span\u001b[39;49m\u001b[39m'\u001b[39;49m)\n\u001b[0;32m      8\u001b[0m driver\u001b[39m.\u001b[39mexecute_script(\u001b[39m\"\u001b[39m\u001b[39marguments[0].value = arguments[1];\u001b[39m\u001b[39m\"\u001b[39m, institu_element, \u001b[39m\"\u001b[39m\u001b[39mAF\u001b[39m\u001b[39m\"\u001b[39m)\n\u001b[0;32m      9\u001b[0m WebDriverWait(driver, \u001b[39m100\u001b[39m)\u001b[39m.\u001b[39muntil(\n\u001b[0;32m     10\u001b[0m     EC\u001b[39m.\u001b[39mpresence_of_element_located((By\u001b[39m.\u001b[39mXPATH, \u001b[39m'''\u001b[39m\u001b[39m//*[@id=\u001b[39m\u001b[39m\"\u001b[39m\u001b[39mgradetxt\u001b[39m\u001b[39m\"\u001b[39m\u001b[39m]/dd[3]/div[2]/div[1]/div[1]/span\u001b[39m\u001b[39m'''\u001b[39m)))\u001b[39m.\u001b[39msend_keys(\u001b[39m\"\u001b[39m\u001b[39m作者单位\u001b[39m\u001b[39m\"\u001b[39m)\n",
      "File \u001b[1;32mf:\\Anaconda3\\lib\\site-packages\\selenium\\webdriver\\remote\\webdriver.py:394\u001b[0m, in \u001b[0;36mWebDriver.find_element_by_xpath\u001b[1;34m(self, xpath)\u001b[0m\n\u001b[0;32m    378\u001b[0m \u001b[39mdef\u001b[39;00m \u001b[39mfind_element_by_xpath\u001b[39m(\u001b[39mself\u001b[39m, xpath):\n\u001b[0;32m    379\u001b[0m     \u001b[39m\"\"\"\u001b[39;00m\n\u001b[0;32m    380\u001b[0m \u001b[39m    Finds an element by xpath.\u001b[39;00m\n\u001b[0;32m    381\u001b[0m \n\u001b[1;32m   (...)\u001b[0m\n\u001b[0;32m    392\u001b[0m \u001b[39m        element = driver.find_element_by_xpath('//div/td[1]')\u001b[39;00m\n\u001b[0;32m    393\u001b[0m \u001b[39m    \"\"\"\u001b[39;00m\n\u001b[1;32m--> 394\u001b[0m     \u001b[39mreturn\u001b[39;00m \u001b[39mself\u001b[39;49m\u001b[39m.\u001b[39;49mfind_element(by\u001b[39m=\u001b[39;49mBy\u001b[39m.\u001b[39;49mXPATH, value\u001b[39m=\u001b[39;49mxpath)\n",
      "File \u001b[1;32mf:\\Anaconda3\\lib\\site-packages\\selenium\\webdriver\\remote\\webdriver.py:976\u001b[0m, in \u001b[0;36mWebDriver.find_element\u001b[1;34m(self, by, value)\u001b[0m\n\u001b[0;32m    974\u001b[0m         by \u001b[39m=\u001b[39m By\u001b[39m.\u001b[39mCSS_SELECTOR\n\u001b[0;32m    975\u001b[0m         value \u001b[39m=\u001b[39m \u001b[39m'\u001b[39m\u001b[39m[name=\u001b[39m\u001b[39m\"\u001b[39m\u001b[39m%s\u001b[39;00m\u001b[39m\"\u001b[39m\u001b[39m]\u001b[39m\u001b[39m'\u001b[39m \u001b[39m%\u001b[39m value\n\u001b[1;32m--> 976\u001b[0m \u001b[39mreturn\u001b[39;00m \u001b[39mself\u001b[39;49m\u001b[39m.\u001b[39;49mexecute(Command\u001b[39m.\u001b[39;49mFIND_ELEMENT, {\n\u001b[0;32m    977\u001b[0m     \u001b[39m'\u001b[39;49m\u001b[39musing\u001b[39;49m\u001b[39m'\u001b[39;49m: by,\n\u001b[0;32m    978\u001b[0m     \u001b[39m'\u001b[39;49m\u001b[39mvalue\u001b[39;49m\u001b[39m'\u001b[39;49m: value})[\u001b[39m'\u001b[39m\u001b[39mvalue\u001b[39m\u001b[39m'\u001b[39m]\n",
      "File \u001b[1;32mf:\\Anaconda3\\lib\\site-packages\\selenium\\webdriver\\remote\\webdriver.py:321\u001b[0m, in \u001b[0;36mWebDriver.execute\u001b[1;34m(self, driver_command, params)\u001b[0m\n\u001b[0;32m    319\u001b[0m response \u001b[39m=\u001b[39m \u001b[39mself\u001b[39m\u001b[39m.\u001b[39mcommand_executor\u001b[39m.\u001b[39mexecute(driver_command, params)\n\u001b[0;32m    320\u001b[0m \u001b[39mif\u001b[39;00m response:\n\u001b[1;32m--> 321\u001b[0m     \u001b[39mself\u001b[39;49m\u001b[39m.\u001b[39;49merror_handler\u001b[39m.\u001b[39;49mcheck_response(response)\n\u001b[0;32m    322\u001b[0m     response[\u001b[39m'\u001b[39m\u001b[39mvalue\u001b[39m\u001b[39m'\u001b[39m] \u001b[39m=\u001b[39m \u001b[39mself\u001b[39m\u001b[39m.\u001b[39m_unwrap_value(\n\u001b[0;32m    323\u001b[0m         response\u001b[39m.\u001b[39mget(\u001b[39m'\u001b[39m\u001b[39mvalue\u001b[39m\u001b[39m'\u001b[39m, \u001b[39mNone\u001b[39;00m))\n\u001b[0;32m    324\u001b[0m     \u001b[39mreturn\u001b[39;00m response\n",
      "File \u001b[1;32mf:\\Anaconda3\\lib\\site-packages\\selenium\\webdriver\\remote\\errorhandler.py:242\u001b[0m, in \u001b[0;36mErrorHandler.check_response\u001b[1;34m(self, response)\u001b[0m\n\u001b[0;32m    240\u001b[0m         alert_text \u001b[39m=\u001b[39m value[\u001b[39m'\u001b[39m\u001b[39malert\u001b[39m\u001b[39m'\u001b[39m]\u001b[39m.\u001b[39mget(\u001b[39m'\u001b[39m\u001b[39mtext\u001b[39m\u001b[39m'\u001b[39m)\n\u001b[0;32m    241\u001b[0m     \u001b[39mraise\u001b[39;00m exception_class(message, screen, stacktrace, alert_text)\n\u001b[1;32m--> 242\u001b[0m \u001b[39mraise\u001b[39;00m exception_class(message, screen, stacktrace)\n",
      "\u001b[1;31mNoSuchElementException\u001b[0m: Message: no such element: Unable to locate element: {\"method\":\"xpath\",\"selector\":\"//*[@id=\"gradetxt\"]/dd[3]/div[2]/div[1]/div[1]/span\"}\n  (Session info: chrome=113.0.5672.127)\n"
     ]
    }
   ],
   "source": [
    "if __name__ == \"__main__\":\n",
    "    # get直接返回，不再等待界面加载完成\n",
    "    desired_capabilities = DesiredCapabilities.CHROME\n",
    "    desired_capabilities[\"pageLoadStrategy\"] = \"none\"\n",
    "\n",
    "    # 设置谷歌驱动器的环境\n",
    "    options = webdriver.ChromeOptions()\n",
    "    # 设置chrome不加载图片，提高速度\n",
    "    options.add_experimental_option(\n",
    "        \"prefs\", {\"profile.managed_default_content_settings.images\": 2})\n",
    "    # # 设置不显示窗口\n",
    "    # options.add_argument('--headless')\n",
    "    # 创建一个谷歌驱动器\n",
    "    driver = webdriver.Chrome(options=options)\n",
    "    print(open_page(driver, '南京师范大学'))\n",
    "    # 关闭浏览器\n",
    "    driver.close()\n"
   ]
  }
 ],
 "metadata": {
  "kernelspec": {
   "display_name": "base",
   "language": "python",
   "name": "python3"
  },
  "language_info": {
   "codemirror_mode": {
    "name": "ipython",
    "version": 3
   },
   "file_extension": ".py",
   "mimetype": "text/x-python",
   "name": "python",
   "nbconvert_exporter": "python",
   "pygments_lexer": "ipython3",
   "version": "3.8.3"
  },
  "orig_nbformat": 4
 },
 "nbformat": 4,
 "nbformat_minor": 2
}
